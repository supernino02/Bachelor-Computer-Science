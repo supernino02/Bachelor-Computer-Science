{
 "cells": [
  {
   "cell_type": "markdown",
   "metadata": {},
   "source": [
    "<h1 style='color:tomato'><b> Home Assignment 4 </b></h1>\n",
    "<h2>Studio dell'Entanglement in sistemi a 2 Qubit</h2>"
   ]
  },
  {
   "cell_type": "markdown",
   "metadata": {},
   "source": [
    "# <h2 style=\"color:Blue\"> Import </h2>"
   ]
  },
  {
   "cell_type": "code",
   "execution_count": 11,
   "metadata": {},
   "outputs": [],
   "source": [
    "from qiskit import QuantumCircuit\n",
    "from qiskit_aer import Aer\n",
    "import numpy as np\n",
    "\n",
    "def exec(c,shots):\n",
    "    backend = Aer.get_backend('statevector_simulator') #creo il simulatore\n",
    "    job = backend.run(c, shots = shots,seed_simulator = 424242) #eseguo con un seed fissato (riproducibilà dei risultati)\n",
    "    result = job.result() #ottengo i risultati\n",
    "    counts = result.get_counts() #salvo in un dizionario\n",
    "    print(c.draw()) #stampo il circuito\n",
    "    print(counts) #stampo i risultati"
   ]
  },
  {
   "cell_type": "markdown",
   "metadata": {},
   "source": [
    "# <h2 style=\"color:Blue\"> Punto 1 </h2>"
   ]
  },
  {
   "cell_type": "markdown",
   "metadata": {},
   "source": [
    "### a)\n",
    "Si costruisca lo stato <br>\n",
    "$$ \\color{orange}{|\\psi\\rangle = \\alpha|0\\rangle + \\beta|1\\rangle}\\color{black} \\ \\ \\ \\text{ con } \\ |\\alpha|^2 = 0.4 \\text{ e } |\\beta|^2=0.6 $$\n",
    "\n",
    "per il $\\color{orange}{\\text{primo qubit}}$, e lo stato $\\color{blue}{|{-}\\rangle}$ per il $\\color{blue}{\\text{secondo qubit}}$."
   ]
  },
  {
   "cell_type": "markdown",
   "metadata": {},
   "source": [
    "Creiamo un circuito quantistico a 2 Qubit con i relativi registri classici per contenere le misure ottenute."
   ]
  },
  {
   "cell_type": "code",
   "execution_count": 12,
   "metadata": {},
   "outputs": [],
   "source": [
    "c1 = QuantumCircuit(2,2)"
   ]
  },
  {
   "cell_type": "markdown",
   "metadata": {},
   "source": [
    "Inizializziamo il primo qubit $Q_0$ di modo che, quando misurato con l'operatore $X$, il $40\\%$ delle volte collassa nell'autostato $|0\\rangle$ e il $60\\%$ in $|1\\rangle$.\n",
    "\n",
    "Supponiamo di avere un <b>set universale</b> composto solamente dalle porte:\n",
    "- $X \\rightarrow$ NOT quantistico in Base Canonica $B_0 = \\{|0\\rangle,|1\\rangle\\}$:<br>\n",
    "    $$|0\\rangle \\leftrightarrow |1\\rangle$$\n",
    "\n",
    "- $H \\rightarrow$ porta di Hadamard, crea sovrapposizione degli stati di $B_0$, in pratica converte gli autovalori di $Z$ negli autovalori di $X$ e viceversa:<br>\n",
    "    $$|0\\rangle \\leftrightarrow |+\\rangle \\color{gray}{= \\frac{|0\\rangle+|1\\rangle}{\\sqrt2}}\\color{black} \\ \\ \\ \\text{ e  } \\ \\ \\ |1 \\leftrightarrow |-\\rangle \\color{gray}{= \\frac{|0-|1\\rangle}{\\sqrt2}} $$\n",
    "\n",
    "- $\\mathrm{U}_{\\mathrm{ph}} (\\gamma) \\rightarrow$ Phase Gate, implementa un cambio di fase relativa su $|1\\rangle$<br>\n",
    "     $$|0\\rangle \\leftrightarrow |0\\rangle \\ \\ \\ \\text{ e } \\ \\ \\ |1\\rangle \\rightarrow e^{i\\gamma}|1\\rangle$$\n",
    "\n",
    "<br>\n",
    "<br>\n",
    "\n",
    "Seguendo l'algoritmo di inizializzazione di un qubit visto a lezione, possiamo produrre uno stato<br>\n",
    "$$|\\psi\\rangle = \\cos \\delta |0\\rangle + e^{i \\gamma} \\sin \\delta |1\\rangle \\ \\ \\ \\text {con } \\ \\delta, \\gamma \\ \\text{ arbitrari}$$\n",
    "\n",
    "Partendo dallo stato $|0\\rangle$, applico in ordine:\n",
    "1. $H$\n",
    "    $$ |0\\rangle \\ \\ \\ \\overset H\\longrightarrow \\ \\ \\ \\frac1{\\sqrt2}\\Big(|0\\rangle+|1\\rangle\\Big)$$\n",
    "2. $\\mathrm{U}_{\\mathrm{ph}}(-2\\delta)$\n",
    "    $$  \\overset {\\mathrm{U}_{\\mathrm{ph}}(-2\\delta)} \\longrightarrow \\ \\ \\ \\frac1{\\sqrt2}\\Big(|0\\rangle+e^{-2i\\delta}|1\\rangle\\Big)$$\n",
    "3. $H$\n",
    "    $$\n",
    "    \\begin{matrix}\n",
    "    \\overset H\\longrightarrow & \\frac12\\Big[ |0\\rangle + |1\\rangle + e^{-2i\\delta}\\big(|0\\rangle - |1\\rangle \\big) \\Big] \\\\ \\ \\\\\n",
    "\n",
    "    = & \\frac12\\Big[ \\big(1+ e^{-2i\\delta}\\big)|0\\rangle + \\big(1- e^{-2i\\delta}\\big)|1\\rangle \\Big] \\\\ \\ \\\\\n",
    "\n",
    "    = & \\frac{e^{-i\\delta}}2\\Big[ \\big(e^{i\\delta}+ e^{-i\\delta}\\big)|0\\rangle + \\big(e^{i\\delta}- e^{-i\\delta}\\big)|1\\rangle \\Big]\n",
    "    \\\\ \\ \\\\\n",
    "\n",
    "    = & \\cos\\delta|0\\rangle + i\\sin\\delta|1\\rangle\n",
    "    \\end{matrix}\n",
    "    $$\n",
    "4. $\\mathrm{U}_{\\mathrm{ph}}(-\\pi/2)$\n",
    "    $$  \\overset {\\mathrm{U}_{\\mathrm{ph}}(-\\frac\\pi2)} \\longrightarrow \\ \\ \\  \\cos\\delta|0\\rangle + \\sin\\delta|1\\rangle $$\n",
    "5. $\\mathrm{U}_{\\mathrm{ph}}(\\gamma)$\n",
    "    $$  \\overset {\\mathrm{U}_{\\mathrm{ph}}(\\gamma)} \\longrightarrow \\ \\ \\ \\cos\\delta|0\\rangle + e^{i\\gamma}\\sin\\delta|1\\rangle $$\n",
    "\n",
    "Per semplicitá NON utilizziamo una fase relativa, in quanto non necessaria poiché non viene presa in considerazione dalla misurazione di $X$; per questo motivo non eseguiremo gli ultimi 2 passi dell'algoritmo.\n",
    "\n",
    "In particolare per il nostro stato, utilizziamo un valore di $\\delta$ tale che $\\cos(\\delta)=\\sqrt{0.4}$ (ovvero che la probabilitá di collassare in $|0\\rangle$ sia $0.4$, come richiesto).\n",
    "\n",
    "Nel nostro caso, scegliamo $\\delta = 0.88$ radianti."
   ]
  },
  {
   "cell_type": "code",
   "execution_count": 13,
   "metadata": {},
   "outputs": [
    {
     "data": {
      "text/plain": [
       "<qiskit.circuit.instructionset.InstructionSet at 0x105026fd0>"
      ]
     },
     "execution_count": 13,
     "metadata": {},
     "output_type": "execute_result"
    }
   ],
   "source": [
    "delta = np.arccos(np.sqrt(0.4))\n",
    "c1.h(0)\n",
    "c1.p(-2*delta,0)\n",
    "c1.h(0)\n",
    "#|Ψ> = cos(0.88)|0> + sin(0.88)|1>"
   ]
  },
  {
   "cell_type": "markdown",
   "metadata": {},
   "source": [
    "Poiché utilizziamo operatori unari, possiamo rappresentarli sulla sfera di bloch come fossero rotazioni. <br>\n",
    "\n",
    "Partendo da $|0\\rangle$, osserviamo in sequenza $H$, $\\mathrm{U}_{\\mathrm{ph}}(-1.7722)$, $H$.\n",
    "\n",
    "\n",
    "<img src=\"Q1_00_H.png\" width=300>\n",
    "<img src=\"Q1_01_U.png\" width=300>\n",
    "<img src=\"Q1_02_H.png\" width=300>"
   ]
  },
  {
   "cell_type": "markdown",
   "metadata": {},
   "source": [
    "Inizializzo anche Q2, semplicemente usando $X$, per trasformarlo da $|0\\rangle$ in $|1\\rangle$ e successivamente $H$ per traformarlo in $|-\\rangle$\n",
    "\n",
    "Ricordiamo $|-\\rangle = \\frac{1}{\\sqrt{2}}(|0\\rangle-|1\\rangle)$"
   ]
  },
  {
   "cell_type": "code",
   "execution_count": 14,
   "metadata": {},
   "outputs": [
    {
     "data": {
      "text/plain": [
       "<qiskit.circuit.instructionset.InstructionSet at 0x116bacbb0>"
      ]
     },
     "execution_count": 14,
     "metadata": {},
     "output_type": "execute_result"
    }
   ],
   "source": [
    "c1.x(1) #da |0> in |1>\n",
    "c1.h(1) #da |1> in |->"
   ]
  },
  {
   "cell_type": "markdown",
   "metadata": {},
   "source": [
    "Rappresentiamo anche l'inizializzazione del secondo Qubit (prima $X$ e poi $H$).\n",
    "\n",
    "<img src=\"Q2_00_X.png\" width=300>\n",
    "<img src=\"Q2_01_H.png\" width=300>"
   ]
  },
  {
   "cell_type": "markdown",
   "metadata": {},
   "source": [
    "### b) \n",
    "Si faccia una misura del sistema; i risultati del primo e del secondo qubit sono correlati?"
   ]
  },
  {
   "cell_type": "markdown",
   "metadata": {},
   "source": [
    "Misuro infine $X$, secondo la Teoria Della Misura misurando l'operatore Hermittiano $X$ (diagonale in Base Canonica $\\{|0\\rangle,|1\\rangle\\}$) su un qubit con stato nella forma <br>\n",
    "\n",
    "$$|\\psi\\rangle=\\cos (0.88) |0\\rangle + \\sin ( 0.88) |1\\rangle$$\n",
    "\n",
    "questo collassa nello stato :\n",
    "* $|0\\rangle$ (con relativo autovalore +1) con $ P = \\cos^2(0.88) = 0.637^2 = 0.40576 \\approx 0.4$ \n",
    "* $|1\\rangle$ (con relativo autovalore -1) con $ P = \\sin^2(0.88) = 0.770^2 = 0.5929 \\approx 0.6$ \n",
    "\n",
    "Similmente, misurando $Q_1$, poiché in completa sovrapposizione di stati $|0\\rangle, |1\\rangle$, questo collasserá in $|0\\rangle$ con $P=0.5$ e in $|1\\rangle$ con la stessa probabilitá."
   ]
  },
  {
   "cell_type": "code",
   "execution_count": 15,
   "metadata": {},
   "outputs": [
    {
     "data": {
      "text/plain": [
       "<qiskit.circuit.instructionset.InstructionSet at 0x116f06850>"
      ]
     },
     "execution_count": 15,
     "metadata": {},
     "output_type": "execute_result"
    }
   ],
   "source": [
    "#MISURO\n",
    "c1.barrier()\n",
    "#le misure sono invertite (little vs big endian)\n",
    "c1.measure(0, 1)\n",
    "c1.measure(1, 0)"
   ]
  },
  {
   "cell_type": "markdown",
   "metadata": {},
   "source": [
    "Poichè la misura è probabilistica (fatta eccezione per le misure direttamente sugli autostati dell' operatore Hermittiano, che in questo caso non si verificano), per ottenere risultati significativi eseguiamo 100.000 shots:"
   ]
  },
  {
   "cell_type": "code",
   "execution_count": 16,
   "metadata": {},
   "outputs": [
    {
     "name": "stdout",
     "output_type": "stream",
     "text": [
      "     ┌───┐┌────────────┐┌───┐ ░ ┌─┐   \n",
      "q_0: ┤ H ├┤ P(-1.7722) ├┤ H ├─░─┤M├───\n",
      "     ├───┤└───┬───┬────┘└───┘ ░ └╥┘┌─┐\n",
      "q_1: ┤ X ├────┤ H ├───────────░──╫─┤M├\n",
      "     └───┘    └───┘           ░  ║ └╥┘\n",
      "c: 2/════════════════════════════╩══╩═\n",
      "                                 1  0 \n",
      "{'01': 20146, '10': 30036, '00': 19834, '11': 29984}\n"
     ]
    }
   ],
   "source": [
    "exec(c1,100000)"
   ]
  },
  {
   "cell_type": "markdown",
   "metadata": {},
   "source": [
    "Mostriamo innanzitutto come possiamo descrivere lo stato $|\\Phi\\rangle$ del nostro sistema come un prodotto tensore tra gli stati di 2 qubit:\n",
    "\n",
    "$$|\\Phi\\rangle = Q_0\\otimes Q_1 $$\n",
    "\n",
    "Questa osservazione ci permette di considerare i 2 qubit \"separati\", in quanto non c'é correlazione tra loro.\n",
    "<br>\n",
    "<br>\n",
    "<br>\n",
    "Mostriamo i risultati in forma matriciale\n",
    "\n",
    "$$ \\begin{array}{c|c}\n",
    "  Q_1/Q_0   & Q_0 = |0\\rangle & Q_0 = |1\\rangle & \\text{Sum} \\\\ \\hline\n",
    "  Q_1 = |0\\rangle &  19.834 & 30.036 & \\color{green}{\\boxed{49.870}}\\color{black}\\\\\n",
    "  Q_1 = |1\\rangle & 20.146 & 29.984 & \\color{green}{\\boxed{50.130}}\\color{black}\\\\\n",
    "  \\text{Sum} & \\color{orange}{\\boxed{39.980}}\\color{black} & \\color{orange}{\\boxed{60.020}}\\color{black} & 100.000 \\\\\n",
    "\\end{array} $$\n",
    "\n",
    "Osserviamo prima di tutto le colonne marginali, possiamo notare come: \n",
    "* per il qubit $Q_0$, come richiesto, le probabilitá siano $\\color{orange}{\\boxed{40}}\\color{black}$ e $\\color{orange}{\\boxed{60}}\\color{black}$;\n",
    "* mentre per il qubit $Q_1$ siano $\\color{green}{\\boxed{50}}\\color{black}/\\color{green}{\\boxed{50}}\\color{black}$ confermando la perfetta sovrapposizione descritta nello stato $|-\\rangle$.\n",
    "\n",
    "Mostriamo ora che i 2 qubit <b>NON</b> sono correlati:\n",
    "- Supponiamo ad esempio che $Q_0$ misuri $|0\\rangle$, ovvero controlliamo i risultati solo sulla prima colonna; le probabilitá di misurare $Q_1$ restano $50$ e $50$.\n",
    "- Allo stesso modo, se $Q_1$ misura $|1\\rangle$, possiamo facilmente verificare come i valori sulla seconda colonna siano nuovamente distribuiti con probabilitá $50$ e $50$.\n",
    "- Decidiamo ora di misurare prima $Q_1$: se otteniamo $|0\\rangle$ (prima riga), poco sorprendentemente $Q_0$ otterà $|0\\rangle$ e $|1\\rangle$ con probabilitá rispettivamente $40$ e $60$ (lo stato é stato creato apposta in questo modo).\n",
    "- Infine, se $Q_1$ collassa in $|1\\rangle$, $Q_0$ collassa in $|0\\rangle$ e $|1\\rangle$ con le stesse probabilitá.\n",
    "\n",
    "\n",
    "Ma cosa abbiamo osservato quindi? Che i 2 Qubit vivono in uno spazio \"separato\" e completamente slegato uno dall'altro. <br>\n",
    "Questo lo abbiamo implicitamente giá osservatao al momento della \"creazione\" degli stati $|\\psi\\rangle$ e $|-\\rangle$ : non ci siamo minimante preoccupati del numero di qubit presenti nello spazio o di che stati avessero, ma ognuno é elaborato \"a se stante\".<br>\n",
    "\n",
    "Questa cosa la si puó notare anche nella rappresentazione grafica del circuito quantistico: ogni porta applicata é unaria, e quindi non abbiamo mai fatto interagire gli stati di 2 qubit diversi."
   ]
  },
  {
   "cell_type": "markdown",
   "metadata": {},
   "source": [
    "# <h2 style=\"color:blue\"> Punto 2 </h2>"
   ]
  },
  {
   "cell_type": "markdown",
   "metadata": {},
   "source": [
    "### a) \n",
    "Si generi lo stato di Bell \n",
    "\n",
    "$$ \\color{orange}{|{\\Phi^{+}\\rangle} =\\frac{1}{\\sqrt{2}}(|{00}\\rangle + |{11}\\rangle)} $$"
   ]
  },
  {
   "cell_type": "markdown",
   "metadata": {},
   "source": [
    "Mostriamo innanzitutto come questo stato <b>NON</b> possa essere descritto come prodotto tensore tra gli stati generico $\\color{blue}{| v\\rangle}$ e $\\color{green}{| w\\rangle}$ dei qubit $\\color{blue}{Q_0}$, $\\color{green}{Q_1}$:\n",
    "\n",
    "$$ \\color{blue}{| v\\rangle = \\alpha | 0\\rangle + \\beta | 1\\rangle} $$\n",
    "\n",
    "$$ \\color{green}{| v\\rangle = \\gamma | 0\\rangle + \\delta | 1\\rangle} $$\n",
    "\n",
    "Lo dimostriamo supponendo che si possa <b>SEMPRE</b> descrivere lo stato di un sistema di N Qubit come prodotto tensore dei singoli presi separatamente:\n",
    "\n",
    "$$ \\begin{align*}\n",
    "\\color{orange}{|{\\Phi}\\rangle}\\color{black} &= \\color{blue}{|{v}\\rangle}\\color{black} \\otimes \\color{green}{|{w}\\rangle}\\color{black} \\\\\n",
    "&= \\color{blue}{(\\alpha |{0}\\rangle + \\beta |{1}\\rangle)}\\color{black} \\otimes \\color{green}{(\\gamma |{0}\\rangle + \\delta |{1}\\rangle)}\\color{black} \\\\\n",
    "&= \\color{blue}{\\alpha} \\color{green}{\\gamma} \\color{black}|{\\color{blue}{0}\\color{green}{0}}\\color{black}\\rangle + \\color{blue}{\\alpha} \\color{green}{\\delta}\\color{black} |{\\color{blue}{0}\\color{green}{1}}\\color{black}\\rangle  + \\color{blue}{\\beta} \\color{green}{\\gamma}\\color{black} |{\\color{blue}{1}\\color{green}{0}}\\color{black}\\rangle + \\color{blue}{\\beta} \\color{green}{\\delta}\\color{black} |{\\color{blue}{1}\\color{green}{1}}\\color{black}\\rangle\n",
    "\\end{align*} $$\n",
    "\n",
    "In particolare, nel caso di $\\color{orange}{|{\\Phi^{+}\\rangle}}$ <br>\n",
    "$$ \\begin{align*}\n",
    "\\color{blue}{\\alpha} \\color{green}{\\gamma} &= \\frac{1}{\\sqrt{2}} \\\\\n",
    "\\color{blue}{\\alpha} \\color{green}{\\delta} &= 0 \\\\\n",
    "\\color{blue}{\\beta} \\color{green}{\\gamma} &= 0 \\\\\n",
    "\\color{blue}{\\beta} \\color{green}{\\delta} &= \\frac{1}{\\sqrt{2}}\n",
    "\\end{align*} $$\n",
    "\n",
    "Che messi a sistema creano una <b style=\"color:red\">CONTRADDIZIONE</b>.\n",
    "\n",
    "Cosa possiamo dedurre questa dimostrazione? <br>\n",
    "Possiamo affermare che il nostro sistema \"descrive\" un super-stato $ \\color{orange}{|{\\Phi^{+}\\rangle}} $ che contiene piú \"informazione\" della somma dei 2 sotto-stati presi separatamente.\n",
    "\n",
    "Per definizione gli stati di Bell sono 4 stati (tra loro ortogonali) che formano una base del super-spazio, e sono tutti vettori <b style=\"color:red\">MASSIMAMENTE ENTANGLED</b>.\n"
   ]
  },
  {
   "cell_type": "markdown",
   "metadata": {},
   "source": [
    "Produciamo ora lo stato $ \\color{orange}{|{\\Phi^{+}\\rangle}} $ partendo dai singoli stati $\\color{blue}{| 0\\rangle}$, $\\color{green}{| 0\\rangle}$.\n",
    "\n",
    "Applico in ordine:\n",
    "1. $H_0 \\rightarrow $ Porta di Hadamard, per creare sovrapposizione su $\\color{blue}{Q_0}$.\n",
    "    $$ \\color{blue}{|0\\rangle}\\color{black} \\otimes \\color{green}{|0\\rangle}\\color{black} \\ \\ \\ \\overset {H_{0}} \\longrightarrow \\ \\ \\ \\color{blue}{|{+}\\rangle}\\color{black} \\otimes \\color{green}{|0\\rangle}\\color{black} \\ \\ \\ = \\ \\ \\ \\color{blue}{\\frac{|0\\rangle+|1\\rangle}{\\sqrt2}}\\color{black} \\otimes \\color{green}{|0\\rangle}\\color{black} \\ \\ \\  = \\ \\ \\ \\frac{|{\\color{blue}{0}\\color{green}{0}}\\color{black}\\rangle+|{\\color{blue}{1}\\color{green}{{0}}\\color{black}\\rangle}}{\\sqrt2} $$\n",
    "\n",
    "2. $C_{0}NOT_{1} \\rightarrow $ Porta $\\color{orange}{\\text{\"Controlled NOT\"}}$, che trasforma $\\color{green}{| 0\\rangle}\\color{black} \\rightarrow \\color{green}{| 1\\rangle}$ ma solo se $\\color{blue}{Q_0}$ = $\\color{blue}{| 0\\rangle}$.\n",
    "    $$ \\frac{|{\\color{blue}{0}\\color{green}{0}}\\color{black}\\rangle+|{\\color{blue}{1}\\color{green}{{0}}\\color{black}\\rangle}}{\\sqrt2}  \\ \\ \\ \\overset {C_{0}NOT_{1}} \\longrightarrow \\ \\ \\ \\frac{|{\\color{blue}{0}\\color{green}{0}}\\color{black}\\rangle+|{\\color{blue}{1}\\color{green}{1}}\\color{black}\\rangle}{\\sqrt2} \\ \\ \\ = \\ \\ \\ \\color{orange}{|{\\Phi^{+}\\rangle}}$$\n",
    "\n",
    "É bene sottolineare come sia l'utilizzo della porta binaria $C_{0}NOT_{1}$ che ci permette di creare $\\color{orange}{\\text{Entanglement}}$: lo si puó notare dal circuito stesso, in cui notiamo come la porta, prendendo in considerazione piú Qubit, non ci permetta piú di poterli considerare \"scollegati\"."
   ]
  },
  {
   "cell_type": "code",
   "execution_count": 17,
   "metadata": {},
   "outputs": [
    {
     "data": {
      "text/plain": [
       "<qiskit.circuit.instructionset.InstructionSet at 0x116f062e0>"
      ]
     },
     "execution_count": 17,
     "metadata": {},
     "output_type": "execute_result"
    }
   ],
   "source": [
    "c2 = QuantumCircuit(2,2) \n",
    "\n",
    "c2.h(0)\n",
    "c2.cx(0,1)"
   ]
  },
  {
   "cell_type": "markdown",
   "metadata": {},
   "source": [
    "### b) \n",
    "Si faccia una misura del sistema; i risultati del primo e del secondo qubit sono correlati?"
   ]
  },
  {
   "cell_type": "markdown",
   "metadata": {},
   "source": [
    "Completiamo allora il circuito con le misurazioni sui qubit $\\color{blue}{Q_0}\\color{black} , \\color{green}{Q_1}$"
   ]
  },
  {
   "cell_type": "code",
   "execution_count": 18,
   "metadata": {},
   "outputs": [
    {
     "data": {
      "text/plain": [
       "<qiskit.circuit.instructionset.InstructionSet at 0x116f06ee0>"
      ]
     },
     "execution_count": 18,
     "metadata": {},
     "output_type": "execute_result"
    }
   ],
   "source": [
    "#MISURO\n",
    "c2.barrier()\n",
    "#le misure sono invertite (little vs big endian)\n",
    "c2.measure(0, 1)\n",
    "c2.measure(1, 0)"
   ]
  },
  {
   "cell_type": "markdown",
   "metadata": {},
   "source": [
    "Per lo stesso ragionamento fatto in precedenza, eseguiamo 100.000 shots."
   ]
  },
  {
   "cell_type": "code",
   "execution_count": 19,
   "metadata": {},
   "outputs": [
    {
     "name": "stdout",
     "output_type": "stream",
     "text": [
      "     ┌───┐      ░ ┌─┐   \n",
      "q_0: ┤ H ├──■───░─┤M├───\n",
      "     └───┘┌─┴─┐ ░ └╥┘┌─┐\n",
      "q_1: ─────┤ X ├─░──╫─┤M├\n",
      "          └───┘ ░  ║ └╥┘\n",
      "c: 2/══════════════╩══╩═\n",
      "                   1  0 \n",
      "{'00': 50050, '11': 49950}\n"
     ]
    }
   ],
   "source": [
    "exec(c2,100000)"
   ]
  },
  {
   "cell_type": "markdown",
   "metadata": {},
   "source": [
    "Analogamente a prima, mostriamo i risultati all'interno di una matrice.\n",
    "\n",
    "$$ \\begin{array}{c|c}\n",
    "  \\color{green}{Q_1}\\color{black}/\\color{blue}{Q_0}\\color{black}   & Q0 = |0\\rangle & Q0 =|1\\rangle & \\text{Sum} \\\\ \\hline\n",
    "  Q1 = |0\\rangle & \\color{magenta}{\\boxed{49950}} & 0 & 49950 \\\\\n",
    "  Q1 = |1\\rangle & 0 & \\color{cyan}{\\boxed{50050}} & 50050\\\\\n",
    "  \\text{Sum} & 49950 & 50050 & 100.000 \\\\\n",
    "\\end{array} $$\n",
    "\n",
    "é immediato notare come la matrice sia <b style=\"color:powderblue\">DIAGONALE</b>: questa caratteristica é tipica degli stati <b style=\"color:red\">massimamente entangled</b>; <br>\n",
    "ovvero, ci assicura che una volta fatta la misura su un Qubit, la misura su quello restante sará <b>DETERMINISTICA</b>, in quanto entrambi i Qubit saranno collassati.\n",
    "\n",
    "Cerchiamo ora di capire in che senso \"collassano\" entrambi. <br>\n",
    "Prendiamo il nostro stato \n",
    "$$ \\color{orange}{|{\\Phi^{+}\\rangle}}\\color{black} = \\frac{1}{\\sqrt2}\\big(\\color{blue}{|0\\rangle}\\color{black} \\otimes \\color{green}{|0\\rangle}\\color{black}+\\color{blue}{|1\\rangle}\\color{black}\\otimes \\color{green}{|1\\rangle}\\color{black}\\big) $$\n",
    "  \n",
    "\n",
    "Supponiamo che la misura su $\\color{blue}{Q_0}$ restituisca 1, ovvero collassi nello stato $\\color{blue}{|{0}\\rangle}$.\n",
    "\n",
    "$$ \\frac{1}{\\sqrt2}\\big(\\color{blue}{|0\\rangle}\\color{black} \\otimes \\color{green}{|0\\rangle}\\color{black}+\\color{blue}{|1\\rangle}\\color{black}\\otimes \\color{green}{|1\\rangle}\\color{black}\\big) \\ \\ \\ \\overset {Z_0} \\longrightarrow \\ \\ \\ \\color{blue}{|0\\rangle}\\color{black} \\otimes \\color{green}{|0\\rangle}\\color{black}  \\text{ con }  P = (\\frac{1}{\\sqrt2})^2 = 0.5$$\n",
    "\n",
    "Dal punto di vista pratico, ci stiamo concentrando sulla prima riga della matrice, e abbiamo escluso la seconda.\n",
    "\n",
    "Effettuiamo ora anche la misura su $\\color{green}{Q_1}$ sullo stato ottenuto.\n",
    "\n",
    "$$ \\color{blue}{|0\\rangle}\\color{black} \\otimes \\color{green}{|0\\rangle}\\color{black} \\ \\ \\ \\overset {Z_1} \\longrightarrow \\ \\ \\ \\color{blue}{|0\\rangle}\\color{black} \\otimes \\color{green}{|0\\rangle}\\color{black} \\text{ con }  P = (1)^2 = 1 $$\n",
    "\n",
    "Ovvero abbiamo uno stato $ \\color{orange}{ \\hat{|{\\Phi^{+}\\rangle}}} $ codificato da uno stato di $\\color{green}{Q_1}$ che é giá un autostato della misura $\\color{green}{Z_1}$.\n",
    "\n",
    "E se la misura $\\color{blue}{Z_0}$ restituisse -1? <br>\n",
    "Allora in questo caso avremmo lo stato collassato in $ \\color{blue}{|1\\rangle}\\color{black} \\otimes \\color{green}{|1\\rangle} $, e le conclusioni precedenti su $\\color{green}{Q_1}$ sono le stesse.\n",
    "\n",
    "Abbiamo inoltre la conferma della probabilitá $50/50$ osservando i valori $\\color{magenta}{\\boxed{49950}} $/$ \\color{cyan}{\\boxed{50050}} $.\n",
    "\n",
    "E se volessimo misurare prima $\\color{green}{Z_1}$ e poi $\\color{blue}{Z_0}$?<br>\n",
    "I risultati sarebbero analoghi, e basterebbe considerare la matrice trasposta.\n",
    "\n",
    "Ovviamente nel nostro caso, in cui la matrice risultante é diagonale, le marginali non servono, ma le indichiamo per completezza.\n",
    "\n"
   ]
  },
  {
   "cell_type": "markdown",
   "metadata": {},
   "source": [
    "### c) \n",
    "Si ripetano i punti precedenti per lo stato di Bell \n",
    "\n",
    "$$ \\color{orange}{|{\\psi^{-}\\rangle} =\\frac{1}{\\sqrt{2}}(|{01}\\rangle - |{10}\\rangle)} $$"
   ]
  },
  {
   "cell_type": "markdown",
   "metadata": {},
   "source": [
    "Essendo questo un'altro dei 4 stati della <b style=\"color:red\">Base di Bell</b>, valgono le stesse proprietá studiate in precedenza.\n",
    "\n",
    "Produciamo ora lo stato $ \\color{orange}{|{\\psi^{-}\\rangle}} $ partendo dai singoli stati $\\color{blue}{| 0\\rangle}$, $\\color{green}{| 0\\rangle}$.\n",
    "\n",
    "Applico in ordine:\n",
    "1. $H_0 \\rightarrow $ Porta di Hadamard, per creare sovrapposizione su $\\color{blue}{Q_0}$.\n",
    "    $$ \\color{blue}{|0\\rangle}\\color{black} \\otimes \\color{green}{|0\\rangle}\\color{black} \\ \\ \\ \\overset {H_{0}} \\longrightarrow \\ \\ \\ \\color{blue}{|{+}\\rangle}\\color{black} \\otimes \\color{green}{|0\\rangle}$$\n",
    "\n",
    "2. $Z_0 \\rightarrow $ Porta di Pauli, la usiamo per traformare  $\\color{blue}{|{+}\\rangle}\\color{black} \\rightarrow \\color{blue}{|{-}\\rangle}$\n",
    "    $$ \\color{blue}{|{+}\\rangle}\\color{black} \\otimes \\color{green}{|0\\rangle}\\color{black} \\overset {Z_{0}} \\longrightarrow \\ \\ \\ \\color{blue}{|{-}\\rangle}\\color{black} \\otimes \\color{green}{|0\\rangle}\\color{black} \\ \\ \\ = \\ \\ \\ \\color{blue}{\\frac{|0\\rangle-|1\\rangle}{\\sqrt2}}\\color{black} \\otimes \\color{green}{|0\\rangle} $$\n",
    "\n",
    "3. $X_1 \\rightarrow $ Porta di Pauli, la usiamo per traformare  $\\color{green}{|0\\rangle}\\color{black} \\rightarrow \\color{green}{|1\\rangle}$ .\n",
    "    $$ \\color{blue}{\\frac{|0\\rangle-|1\\rangle}{\\sqrt2}}\\color{black} \\otimes \\color{green}{|0\\rangle}\\color{black} \\ \\ \\ \\overset {X_1} \\longrightarrow \\ \\ \\ \\color{blue}{\\frac{|0\\rangle-|1\\rangle}{\\sqrt2}} \\color{black}\\otimes \\color{green}{|1\\rangle}\\color{black} \\ \\ \\ = \\ \\ \\ \\frac{|{\\color{blue}{0}\\color{green}{1}}\\color{black}\\rangle-|{\\color{blue}{1}\\color{green}{1}}\\rangle}{\\sqrt2} $$\n",
    "\n",
    "4. $C_{0}NOT_{1} \\rightarrow $ Porta $\\color{orange}{\\text{\"Controlled NOT\"}}$, che trasforma $\\color{green}{| 0\\rangle}\\color{black} \\rightarrow \\color{green}{| 1\\rangle}$ ma solo se $\\color{blue}{Q_0}$ = $\\color{blue}{| 0\\rangle}$.\n",
    "    $$ \\frac{|{\\color{blue}{0}\\color{green}{1}}\\color{black}\\rangle-|{\\color{blue}{1}\\color{green}{1}}\\rangle}{\\sqrt2}\\color{black}  \\ \\ \\ \\overset {C_{0}NOT_{1}} \\longrightarrow \\ \\ \\ \\frac{|{\\color{blue}{0}\\color{green}{1}}\\color{black}\\rangle-|{\\color{blue}{1}\\color{green}{0}}\\rangle}{\\sqrt2}\\color{black} \\ \\ \\ = \\ \\ \\ \\color{orange}{|{\\Psi^{-}}\\rangle} $$\n"
   ]
  },
  {
   "cell_type": "code",
   "execution_count": 20,
   "metadata": {},
   "outputs": [
    {
     "name": "stdout",
     "output_type": "stream",
     "text": [
      "     ┌───┐┌───┐      ░ ┌─┐   \n",
      "q_0: ┤ H ├┤ Z ├──■───░─┤M├───\n",
      "     ├───┤└───┘┌─┴─┐ ░ └╥┘┌─┐\n",
      "q_1: ┤ X ├─────┤ X ├─░──╫─┤M├\n",
      "     └───┘     └───┘ ░  ║ └╥┘\n",
      "c: 2/═══════════════════╩══╩═\n",
      "                        1  0 \n",
      "{'01': 50050, '10': 49950}\n"
     ]
    }
   ],
   "source": [
    "c3 = QuantumCircuit(2,2) \n",
    "\n",
    "c3.h(0);c3.z(0)\n",
    "\n",
    "c3.x(1)\n",
    "\n",
    "c3.cx(0,1)\n",
    "\n",
    "#MISURO\n",
    "c3.barrier()\n",
    "#le misure sono invertite (little  vs big endian)\n",
    "c3.measure(0, 1)\n",
    "c3.measure(1, 0)\n",
    "\n",
    "exec(c3,100000)"
   ]
  },
  {
   "cell_type": "markdown",
   "metadata": {},
   "source": [
    "Mostrando la matrice, notiamo delle evidenti similitudini con il punto precedente:\n",
    "\n",
    "$$ \\begin{array}{c|c}\n",
    "  \\color{green}{Q_1}/\\color{blue}{Q_0}\\color{black}   & Q0 = |0\\rangle & Q0 =|1\\rangle & \\text{Sum} \\\\ \\hline\n",
    "  Q1 = |0\\rangle  & 0 & \\color{magenta}{\\boxed{49950}}& 49950 \\\\\n",
    "  Q1 = |1\\rangle & \\color{cyan}{\\boxed{50050}} & 0 & 50050\\\\\n",
    "  \\text{Sum} & 50050  & 49950 & 100.000 \\\\\n",
    "\\end{array} $$\n",
    "\n",
    "Si differenzi ovviamente col punto precedente, poiché risulta $\\text{\"diagonale inversa\"}$.\n",
    "\n",
    "Ricollegandoci alle motivazioni date prima, ci chiediamo cosa si noti se andiamo a misurare $\\color{blue}{Z_0}$ e poi $\\color{green}{Z_1}$.\n",
    "\n",
    "Supponiamo che la misura su $\\color{blue}{Q_0}$ restituisca 1, ovvero collassi nello stato $\\color{blue}{|{0}\\rangle}$.\n",
    "\n",
    "$$ \\frac{1}{\\sqrt2}\\big(\\color{blue}{|0\\rangle}\\color{black} \\otimes \\color{green}{|1\\rangle}\\color{black}-\\color{blue}{|1\\rangle}\\color{black}\\otimes \\color{green}{|0\\rangle\\color{black}\\big) \\ \\ \\ \\overset {Z_0} \\longrightarrow \\ \\ \\ \\color{blue}{|0\\rangle}\\color{black} \\otimes \\color{green}{|1\\rangle}\\color{black}  \\text{ con }  P = (\\frac{1}{\\sqrt2})^2 = 0.5$$\n",
    "\n",
    "Una successiva misura su $\\color{green}{Z_1}$ cosa fa?\n",
    "\n",
    "$$ -\\color{blue}{|0\\rangle}\\color{black} \\otimes \\color{green}{|1\\rangle}\\color{black} \\ \\ \\ \\overset {Z_1} \\longrightarrow \\ \\ \\ \\color{blue}{|0\\rangle}\\color{black} \\otimes \\color{green}{|1\\rangle}\\color{black} \\text{ con }  P = 1^2 = 1 $$\n",
    "\n",
    "Il caso in cui $\\color{blue}{Z_0}$ faccia collassare lo stato in \n",
    "\n",
    "$$ - \\color{blue}{|1\\rangle}\\color{black} \\otimes \\color{green}{|0\\rangle}\\color{black}  \\text{ con }  P = (\\frac{1}{\\sqrt2})^2 = 0.5$$ \n",
    "\n",
    "si avrá nuovamente determinismo su $\\color{green}{Z_1}$, con \n",
    "\n",
    "$$ \\color{blue}{|1\\rangle}\\color{black} \\otimes \\color{green}{|0\\rangle}\\color{black} \\text{ con }  P = (-1)^2 = 1 $$ \n",
    "\n",
    "Si noti come il fattore moltiplicativo $-1$ sia una $\\text{fase globale}$, non osservabile per definizione, e infatti rimuovibile, in quanto non intacca i calcoli.\n",
    "\n",
    "Misurando prima $\\color{green}{Z_1}$ e poi $\\color{blue}{Z_0}$, lo studio non cambia, secondo i ragionamenti mostrati prima.\n",
    "\n",
    "Quindi anche in questo caso possiamo notare una $perfetta$ correlazione tra le misure sui $\\color{blue}{Q_0}$ e $\\color{green}{Q_1}$.\n",
    "\n",
    "In particolare, per lo stato $\\color{orange}{|{\\Psi^{-}}\\rangle}$, abbiamo garanzia che l' osservabile composto $\\color{green}{Z_0}\\color{black} \\otimes \\color{blue}{Z_1}$ possa dare come risultato solamente\n",
    "- $\\color{blue}{+1}\\color{black},\\color{green}{-1}\\color{black} \\text{ con } P = 0.5  \\text{ cioé }  \\color{blue}{|1\\rangle}\\color{black} \\otimes \\color{green}{|0\\rangle} $\n",
    "- $\\color{blue}{-1}\\color{black},\\color{green}{+1}\\color{black} \\text{ con } P = 0.5  \\text{ cioé } \\color{blue}{|0\\rangle}\\color{black} \\otimes \\color{green}{|1\\rangle} $\n",
    "\n",
    "Questa informazione é $estremamemente$ utile e possiede un sacco di implicazioni pratiche, in quanto, dopo una misura su $\\color{blue}{Q_0}$, permette $istantaneamente$ di poter predirre la misura su $\\color{green}{Q_1}$, nonostante non sia ancora stata effettuta.\n",
    "\n",
    "Nella nostra matrice, questo ragionameno equivale a scegliere una colonna, e avere la certezza che solo una delle 2 righe sará possibile.\n",
    "\n",
    "Tale ragionamento é analogo per lo stato precedente $\\color{orange}{|{\\Phi^{+}}\\rangle}$, in abbiamo garanzia che l' osservabile composto $\\color{blue}{Z_0}\\color{black} \\otimes \\color{green}{Z_1}$ possa dare come risultato solamente\n",
    "- $\\color{blue}{+1}\\color{black},\\color{green}{+1}\\color{black} \\text{ con } P = 0.5 \\text{ cioé }  \\color{blue}{|1\\rangle}\\color{black} \\otimes \\color{green}{|1\\rangle} $\n",
    "- $\\color{blue}{-1}\\color{black},\\color{green}{-1}\\color{black} \\text{ con } P = 0.5 \\text{ cioé }  \\color{blue}{|0\\rangle}\\color{black} \\otimes \\color{green}{|0\\rangle} $\n"
   ]
  }
 ],
 "metadata": {
  "kernelspec": {
   "display_name": "anaconda",
   "language": "python",
   "name": "python3"
  },
  "language_info": {
   "codemirror_mode": {
    "name": "ipython",
    "version": 3
   },
   "file_extension": ".py",
   "mimetype": "text/x-python",
   "name": "python",
   "nbconvert_exporter": "python",
   "pygments_lexer": "ipython3",
   "version": "3.9.6"
  }
 },
 "nbformat": 4,
 "nbformat_minor": 2
}
